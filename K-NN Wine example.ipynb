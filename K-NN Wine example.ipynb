{
 "cells": [
  {
   "cell_type": "code",
   "execution_count": null,
   "id": "4dd13e5c",
   "metadata": {},
   "outputs": [],
   "source": [
    "!pip install pandas\n",
    "import pandas as pd\n",
    "from sklearn import model_selection\n",
    "from sklearn import preprocessing\n",
    "from sklearn import neighbors, metrics\n",
    "data = pd.read_csv(\"C:/Users/3805174/Downloads/winequality-white.csv\", sep=\";\")\n",
    "\n",
    "X = data[data.columns[:-1]].values\n",
    "y = data['quality'].values\n",
    "\n",
    "y_class = np.where(y<6, 0, 1)\n",
    "\n",
    "X_train, X_test, y_train, y_test = model_selection.train_test_split(X, y_class, test_size=0.3)\n",
    "\n",
    "std_scale = preprocessing.StandardScaler().fit(X_train)\n",
    "X_train_std = std_scale.transform(X_train)\n",
    "X_test_std = std_scale.transform(X_test)\n",
    "\n",
    "param_grid = {'n_neighbors':[i for i in range(2,15)]}\n",
    "\n",
    "clf = model_selection.GridSearchCV(neighbors.KNeighborsClassifier(), param_grid, cv=5, scoring='accuracy')\n",
    "clf.fit(X_train_std, y_train)\n",
    "\n",
    "best_n_neighbors = clf.best_params_['n_neighbors']\n",
    "print('The best number of neighbors is ' + str(best_n_neighbors))\n",
    "\n",
    "knn = neighbors.KNeighborsClassifier(n_neighbors=best_n_neighbors)\n",
    "knn.fit(X_train_std, y_train)\n",
    "y_pred = knn.predict(X_test_std)\n",
    "\n",
    "print(\"Accuracy:\", metrics.accuracy_score(y_test, y_pred))\n",
    "\n",
    "er = []\n",
    "for i in range(2, 15):\n",
    "    knn = neighbors.KNeighborsClassifier(n_neighbors=i)\n",
    "    er.append(100*(1-knn.fit(X_train_std, y_train).score(X_test_std, y_test)))\n",
    "\n",
    "plt.plot(range(2, 15), er, 'o-')\n",
    "plt.xlabel('Number of Neighbors (K)')\n",
    "plt.ylabel('Test Error Rate (%)')\n",
    "plt.title('KNN Performance')\n",
    "plt.show()\n",
    "\n",
    "\n",
    "\n",
    "\n",
    "\n"
   ]
  }
 ],
 "metadata": {
  "kernelspec": {
   "display_name": "Python 3 (ipykernel)",
   "language": "python",
   "name": "python3"
  },
  "language_info": {
   "codemirror_mode": {
    "name": "ipython",
    "version": 3
   },
   "file_extension": ".py",
   "mimetype": "text/x-python",
   "name": "python",
   "nbconvert_exporter": "python",
   "pygments_lexer": "ipython3",
   "version": "3.10.9"
  }
 },
 "nbformat": 4,
 "nbformat_minor": 5
}
