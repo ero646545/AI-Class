{
 "cells": [
  {
   "cell_type": "markdown",
   "id": "23225ca6",
   "metadata": {},
   "source": [
    "**Linear Regression**"
   ]
  },
  {
   "cell_type": "code",
   "execution_count": null,
   "id": "87353dbc",
   "metadata": {
    "scrolled": true
   },
   "outputs": [],
   "source": [
    "# Import Libraries\n",
    "import os\n",
    "import numpy as np\n",
    "import pandas as pd\n",
    "import matplotlib.pyplot as plt\n",
    "from sklearn import linear_model\n",
    "\n",
    "# Load dataset\n",
    "house_data = pd.read_csv('house.csv')\n",
    "regr = linear_model.LinearRegression()\n",
    "house_data = house_data[house_data['loyer'] < 10000]\n",
    "\n",
    "#Transform dataset to matrix\n",
    "x = np.asarray([np.ones(house_data.shape[0]), house_data['surface'].values]).T\n",
    "print(\"Showing X values:\\n\",x)\n",
    "y = np.asarray(house_data['loyer']).T\n",
    "print(\"Showing Y values:\\n\",y)\n",
    "\n",
    "plt.xlabel('Surface')\n",
    "plt.ylabel('Rent')\n",
    "plt.plot(house_data['surface'], house_data['loyer'], 'ro', markersize=4)\n",
    "\n",
    "\n"
   ]
  },
  {
   "cell_type": "code",
   "execution_count": null,
   "id": "e99a77cb",
   "metadata": {
    "scrolled": true
   },
   "outputs": [],
   "source": [
    "plt.xlabel('Surface')\n",
    "plt.ylabel('Rent')\n",
    "plt.plot(house_data['surface'], house_data['loyer'], 'ro', markersize=4)\n",
    "# Calculate Theta parameters \n",
    "theta = np.linalg.inv(x.T.dot(x)).dot(x.T).dot(y)\n",
    "print(\"y = a*x+b\")\n",
    "print(\"The value of Theta 1(a)\",250 * theta.item(1))\n",
    "print(\"The value of Theta 0(b)\",theta.item(0))\n",
    "regr.fit(x,y)\n",
    "regr.predict(house_data)\n",
    "\n",
    "# On affiche la droite entre 0 et 250\n",
    "plt.plot([0,250], [theta.item(0),theta.item(0) + 250 * theta.item(1)], linestyle='--', c='#000000')\n",
    "\n",
    "plt.show()\n"
   ]
  },
  {
   "cell_type": "code",
   "execution_count": null,
   "id": "c622929d",
   "metadata": {
    "scrolled": true
   },
   "outputs": [],
   "source": []
  },
  {
   "cell_type": "code",
   "execution_count": null,
   "id": "5e3ed9d2",
   "metadata": {
    "scrolled": true
   },
   "outputs": [],
   "source": []
  }
 ],
 "metadata": {
  "kernelspec": {
   "display_name": "Python 3 (ipykernel)",
   "language": "python",
   "name": "python3"
  },
  "language_info": {
   "codemirror_mode": {
    "name": "ipython",
    "version": 3
   },
   "file_extension": ".py",
   "mimetype": "text/x-python",
   "name": "python",
   "nbconvert_exporter": "python",
   "pygments_lexer": "ipython3",
   "version": "3.10.9"
  }
 },
 "nbformat": 4,
 "nbformat_minor": 5
}
