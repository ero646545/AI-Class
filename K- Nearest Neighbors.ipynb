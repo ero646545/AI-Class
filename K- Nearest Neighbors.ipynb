{
 "cells": [
  {
   "cell_type": "markdown",
   "id": "84357fab",
   "metadata": {},
   "source": [
    "# K-Nearest Neighbors"
   ]
  },
  {
   "cell_type": "code",
   "execution_count": null,
   "id": "2165046c",
   "metadata": {},
   "outputs": [],
   "source": [
    "import numpy as np\n",
    "import matplotlib.pyplot as plt\n",
    "from sklearn.datasets import fetch_openml\n",
    "from sklearn import neighbors\n",
    "from sklearn.model_selection import train_test_split\n",
    "\n",
    "mnist = fetch_openml('mnist_784', version=1)\n",
    "\n",
    "sample = np.random.randint(70000, size=1000)\n",
    "data = mnist.data.to_numpy()[sample]\n",
    "\n",
    "target = mnist.target.iloc[sample]\n",
    "\n",
    "\n",
    "xtrain, xtest, ytrain, ytest = train_test_split(data, target, train_size=0.8)\n",
    "\n",
    "knn = neighbors.KNeighborsClassifier(n_neighbors=3)\n",
    "knn.fit(xtrain, ytrain)\n",
    "error = 1 - knn.score(xtest, ytest)\n",
    "print('Erreur 3 voisins:  %f' % error)\n",
    "\n",
    "errors = {}\n",
    "for k in range(2,15):\n",
    "    knn = neighbors.KNeighborsClassifier(k)\n",
    "    knn.fit(xtrain, ytrain)\n",
    "    errors[k] = 100*(1 - knn.score(xtest, ytest))\n",
    "    \n",
    "plt.plot(range(2,15), errors.values(), 'o-')\n",
    "plt.show()\n",
    "\n",
    "best_k = min(errors, key=errors.get)\n",
    "print('Best classifier : k = {}, with an error of {:.2f}%'.format(best_k, errors[best_k]))\n",
    "\n",
    "\n",
    "# On récupère le classifieur le plus performant\n",
    "knn = neighbors.KNeighborsClassifier(best_k)\n",
    "knn.fit(xtrain, ytrain)\n",
    "\n",
    "# On récupère les prédictions sur les données test\n",
    "predicted = knn.predict(xtest)\n",
    "\n",
    "# On redimensionne les données sous forme d'images\n",
    "images = xtest.reshape((-1, 28, 28))\n",
    "\n",
    "# On selectionne un echantillon de 12 images au hasard\n",
    "select = np.random.randint(images.shape[0], size=12)\n",
    "\n",
    "# On affiche les images avec la prédiction associée\n",
    "fig,ax = plt.subplots(3,4)\n",
    "\n",
    "for index, value in enumerate(select):\n",
    "    plt.subplot(3,4,index+1)\n",
    "    plt.axis('off')\n",
    "    plt.imshow(images[value],cmap=plt.cm.gray_r,interpolation=\"nearest\")\n",
    "    plt.title('Predicted: {}'.format( predicted[value]) )\n",
    "\n",
    "plt.show()\n",
    "\n",
    "\n"
   ]
  },
  {
   "cell_type": "markdown",
   "id": "c2c1626d",
   "metadata": {},
   "source": [
    "**Wait a bit, then send the next section to see some examples it did'nt predict well**"
   ]
  },
  {
   "cell_type": "code",
   "execution_count": null,
   "id": "256b5fca",
   "metadata": {},
   "outputs": [],
   "source": [
    "errors = []\n",
    "for k in range(2,15):\n",
    "    knn = neighbors.KNeighborsClassifier(k)\n",
    "    errors.append(100*(1 - knn.fit(xtrain, ytrain).score(xtest, ytest)))\n",
    "    plt.plot(range(2,15), errors, 'o-')\n",
    "plt.show()\n"
   ]
  },
  {
   "cell_type": "markdown",
   "id": "fc59b29e",
   "metadata": {},
   "source": [
    "# Attention, very slow! \n",
    "it is to illustrate the learned digital print of what it has learned"
   ]
  },
  {
   "cell_type": "code",
   "execution_count": null,
   "id": "d64d9bf2",
   "metadata": {},
   "outputs": [],
   "source": [
    "# récupérer les prédictions du KNN pour les images de test\n",
    "y_pred = knn.predict(xtest)\n",
    "\n",
    "# créer un dictionnaire pour stocker les indices des images pour chaque chiffre\n",
    "indices = {}\n",
    "for i in range(10):\n",
    "    indices[i] = np.where(ytrain == str(i))[0]\n",
    "\n",
    "# calculer la moyenne des images pour chaque chiffre\n",
    "mean_images = []\n",
    "for i in range(10):\n",
    "    mean_image = np.mean(xtrain[indices[i]], axis=0)\n",
    "    mean_images.append(mean_image)\n",
    "\n",
    "# afficher les 9 images représentatives pour chaque chiffre\n",
    "fig, axs = plt.subplots(10, 9, figsize=(9, 10))\n",
    "for i in range(10):\n",
    "    for j in range(9):\n",
    "        if j == 0:\n",
    "            axs[i, j].imshow(mean_images[i].reshape(28, 28), cmap='gray')\n",
    "            axs[i, j].set_title(str(i))\n",
    "        else:\n",
    "            axs[i, j].imshow(xtrain[indices[i][j-1]].reshape(28, 28), cmap='gray')\n",
    "        axs[i, j].axis('off')\n",
    "plt.show()"
   ]
  }
 ],
 "metadata": {
  "kernelspec": {
   "display_name": "Python 3 (ipykernel)",
   "language": "python",
   "name": "python3"
  },
  "language_info": {
   "codemirror_mode": {
    "name": "ipython",
    "version": 3
   },
   "file_extension": ".py",
   "mimetype": "text/x-python",
   "name": "python",
   "nbconvert_exporter": "python",
   "pygments_lexer": "ipython3",
   "version": "3.10.9"
  }
 },
 "nbformat": 4,
 "nbformat_minor": 5
}
